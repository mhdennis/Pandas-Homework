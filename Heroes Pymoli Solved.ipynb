{
 "cells": [
  {
   "cell_type": "markdown",
   "metadata": {},
   "source": [
    "# Heroes of Pymoli Data Analysis \n",
    "\n",
    "<ul> \n",
    "<li> Although there are more male users than female users, on average, the purchase price is higher among females.  </li>\n",
    "<li> The highest percentage of players are 20-24 years old. </li>\n",
    "<li> The most popular item and the most profitable item is the Mourning Blade. </li>\n"
   ]
  },
  {
   "cell_type": "code",
   "execution_count": 1,
   "metadata": {
    "collapsed": true
   },
   "outputs": [],
   "source": [
    "#Import Dependencies \n",
    "import pandas as pd\n",
    "import numpy as np"
   ]
  },
  {
   "cell_type": "code",
   "execution_count": 2,
   "metadata": {
    "collapsed": true
   },
   "outputs": [],
   "source": [
    "#Read in JSON file \n",
    "heroes_pymoli = \"purchase_data2.json\""
   ]
  },
  {
   "cell_type": "code",
   "execution_count": 3,
   "metadata": {},
   "outputs": [
    {
     "data": {
      "text/html": [
       "<div>\n",
       "<style>\n",
       "    .dataframe thead tr:only-child th {\n",
       "        text-align: right;\n",
       "    }\n",
       "\n",
       "    .dataframe thead th {\n",
       "        text-align: left;\n",
       "    }\n",
       "\n",
       "    .dataframe tbody tr th {\n",
       "        vertical-align: top;\n",
       "    }\n",
       "</style>\n",
       "<table border=\"1\" class=\"dataframe\">\n",
       "  <thead>\n",
       "    <tr style=\"text-align: right;\">\n",
       "      <th></th>\n",
       "      <th>Age</th>\n",
       "      <th>Gender</th>\n",
       "      <th>Item ID</th>\n",
       "      <th>Item Name</th>\n",
       "      <th>Price</th>\n",
       "      <th>SN</th>\n",
       "    </tr>\n",
       "  </thead>\n",
       "  <tbody>\n",
       "    <tr>\n",
       "      <th>0</th>\n",
       "      <td>20</td>\n",
       "      <td>Male</td>\n",
       "      <td>93</td>\n",
       "      <td>Apocalyptic Battlescythe</td>\n",
       "      <td>4.49</td>\n",
       "      <td>Iloni35</td>\n",
       "    </tr>\n",
       "    <tr>\n",
       "      <th>1</th>\n",
       "      <td>21</td>\n",
       "      <td>Male</td>\n",
       "      <td>12</td>\n",
       "      <td>Dawne</td>\n",
       "      <td>3.36</td>\n",
       "      <td>Aidaira26</td>\n",
       "    </tr>\n",
       "    <tr>\n",
       "      <th>2</th>\n",
       "      <td>17</td>\n",
       "      <td>Male</td>\n",
       "      <td>5</td>\n",
       "      <td>Putrid Fan</td>\n",
       "      <td>2.63</td>\n",
       "      <td>Irim47</td>\n",
       "    </tr>\n",
       "    <tr>\n",
       "      <th>3</th>\n",
       "      <td>17</td>\n",
       "      <td>Male</td>\n",
       "      <td>123</td>\n",
       "      <td>Twilight's Carver</td>\n",
       "      <td>2.55</td>\n",
       "      <td>Irith83</td>\n",
       "    </tr>\n",
       "    <tr>\n",
       "      <th>4</th>\n",
       "      <td>22</td>\n",
       "      <td>Male</td>\n",
       "      <td>154</td>\n",
       "      <td>Feral Katana</td>\n",
       "      <td>4.11</td>\n",
       "      <td>Philodil43</td>\n",
       "    </tr>\n",
       "  </tbody>\n",
       "</table>\n",
       "</div>"
      ],
      "text/plain": [
       "   Age Gender  Item ID                 Item Name  Price          SN\n",
       "0   20   Male       93  Apocalyptic Battlescythe   4.49     Iloni35\n",
       "1   21   Male       12                     Dawne   3.36   Aidaira26\n",
       "2   17   Male        5                Putrid Fan   2.63      Irim47\n",
       "3   17   Male      123         Twilight's Carver   2.55     Irith83\n",
       "4   22   Male      154              Feral Katana   4.11  Philodil43"
      ]
     },
     "execution_count": 3,
     "metadata": {},
     "output_type": "execute_result"
    }
   ],
   "source": [
    "heroes_pymoli_pd = pd.read_json(heroes_pymoli, encoding = \"iso-8859-1\")\n",
    "heroes_pymoli_pd.head()"
   ]
  },
  {
   "cell_type": "code",
   "execution_count": 4,
   "metadata": {},
   "outputs": [
    {
     "data": {
      "text/plain": [
       "Index(['Age', 'Gender', 'Item ID', 'Item Name', 'Price', 'SN'], dtype='object')"
      ]
     },
     "execution_count": 4,
     "metadata": {},
     "output_type": "execute_result"
    }
   ],
   "source": [
    "#Check column names \n",
    "heroes_pymoli_pd.columns"
   ]
  },
  {
   "cell_type": "code",
   "execution_count": 5,
   "metadata": {},
   "outputs": [
    {
     "data": {
      "text/html": [
       "<div>\n",
       "<style>\n",
       "    .dataframe thead tr:only-child th {\n",
       "        text-align: right;\n",
       "    }\n",
       "\n",
       "    .dataframe thead th {\n",
       "        text-align: left;\n",
       "    }\n",
       "\n",
       "    .dataframe tbody tr th {\n",
       "        vertical-align: top;\n",
       "    }\n",
       "</style>\n",
       "<table border=\"1\" class=\"dataframe\">\n",
       "  <thead>\n",
       "    <tr style=\"text-align: right;\">\n",
       "      <th></th>\n",
       "      <th>Age</th>\n",
       "      <th>Gender</th>\n",
       "      <th>Item ID</th>\n",
       "      <th>Item Name</th>\n",
       "      <th>Price</th>\n",
       "      <th>SN</th>\n",
       "    </tr>\n",
       "  </thead>\n",
       "  <tbody>\n",
       "    <tr>\n",
       "      <th>0</th>\n",
       "      <td>20</td>\n",
       "      <td>Male</td>\n",
       "      <td>93</td>\n",
       "      <td>Apocalyptic Battlescythe</td>\n",
       "      <td>4.49</td>\n",
       "      <td>Iloni35</td>\n",
       "    </tr>\n",
       "    <tr>\n",
       "      <th>1</th>\n",
       "      <td>21</td>\n",
       "      <td>Male</td>\n",
       "      <td>12</td>\n",
       "      <td>Dawne</td>\n",
       "      <td>3.36</td>\n",
       "      <td>Aidaira26</td>\n",
       "    </tr>\n",
       "    <tr>\n",
       "      <th>2</th>\n",
       "      <td>17</td>\n",
       "      <td>Male</td>\n",
       "      <td>5</td>\n",
       "      <td>Putrid Fan</td>\n",
       "      <td>2.63</td>\n",
       "      <td>Irim47</td>\n",
       "    </tr>\n",
       "    <tr>\n",
       "      <th>3</th>\n",
       "      <td>17</td>\n",
       "      <td>Male</td>\n",
       "      <td>123</td>\n",
       "      <td>Twilight's Carver</td>\n",
       "      <td>2.55</td>\n",
       "      <td>Irith83</td>\n",
       "    </tr>\n",
       "    <tr>\n",
       "      <th>4</th>\n",
       "      <td>22</td>\n",
       "      <td>Male</td>\n",
       "      <td>154</td>\n",
       "      <td>Feral Katana</td>\n",
       "      <td>4.11</td>\n",
       "      <td>Philodil43</td>\n",
       "    </tr>\n",
       "  </tbody>\n",
       "</table>\n",
       "</div>"
      ],
      "text/plain": [
       "   Age Gender  Item ID                 Item Name  Price          SN\n",
       "0   20   Male       93  Apocalyptic Battlescythe   4.49     Iloni35\n",
       "1   21   Male       12                     Dawne   3.36   Aidaira26\n",
       "2   17   Male        5                Putrid Fan   2.63      Irim47\n",
       "3   17   Male      123         Twilight's Carver   2.55     Irith83\n",
       "4   22   Male      154              Feral Katana   4.11  Philodil43"
      ]
     },
     "execution_count": 5,
     "metadata": {},
     "output_type": "execute_result"
    }
   ],
   "source": [
    "#Drop Duplicates\n",
    "heroes_without_duplicates = heroes_pymoli_pd.drop_duplicates(subset =['Age', 'Gender', 'SN'])\n",
    "heroes_without_duplicates.head()"
   ]
  },
  {
   "cell_type": "markdown",
   "metadata": {},
   "source": [
    "### Player Count"
   ]
  },
  {
   "cell_type": "code",
   "execution_count": 6,
   "metadata": {},
   "outputs": [
    {
     "data": {
      "text/html": [
       "<div>\n",
       "<style>\n",
       "    .dataframe thead tr:only-child th {\n",
       "        text-align: right;\n",
       "    }\n",
       "\n",
       "    .dataframe thead th {\n",
       "        text-align: left;\n",
       "    }\n",
       "\n",
       "    .dataframe tbody tr th {\n",
       "        vertical-align: top;\n",
       "    }\n",
       "</style>\n",
       "<table border=\"1\" class=\"dataframe\">\n",
       "  <thead>\n",
       "    <tr style=\"text-align: right;\">\n",
       "      <th></th>\n",
       "      <th>Total Players</th>\n",
       "    </tr>\n",
       "  </thead>\n",
       "  <tbody>\n",
       "    <tr>\n",
       "      <th>0</th>\n",
       "      <td>74</td>\n",
       "    </tr>\n",
       "  </tbody>\n",
       "</table>\n",
       "</div>"
      ],
      "text/plain": [
       "   Total Players\n",
       "0             74"
      ]
     },
     "execution_count": 6,
     "metadata": {},
     "output_type": "execute_result"
    }
   ],
   "source": [
    "#Player Count\n",
    "#Total Players \n",
    "total_players = len(heroes_without_duplicates)\n",
    "total_players\n",
    "total_player_breakdown = pd.DataFrame({\"Total Players\": [total_players]})\n",
    "total_player_breakdown\n",
    "total_player_breakdown = total_player_breakdown[[\"Total Players\"]]\n",
    "total_player_breakdown"
   ]
  },
  {
   "cell_type": "code",
   "execution_count": 7,
   "metadata": {},
   "outputs": [
    {
     "data": {
      "text/plain": [
       "63"
      ]
     },
     "execution_count": 7,
     "metadata": {},
     "output_type": "execute_result"
    }
   ],
   "source": [
    "#Number of Unique Items\n",
    "items_unique = heroes_pymoli_pd[\"Item Name\"].nunique()\n",
    "items_unique"
   ]
  },
  {
   "cell_type": "code",
   "execution_count": 8,
   "metadata": {},
   "outputs": [
    {
     "data": {
      "text/plain": [
       "2.9243589743589733"
      ]
     },
     "execution_count": 8,
     "metadata": {},
     "output_type": "execute_result"
    }
   ],
   "source": [
    "#Avg Purchase Price\n",
    "avg_price = heroes_pymoli_pd[\"Price\"].mean()\n",
    "avg_price"
   ]
  },
  {
   "cell_type": "code",
   "execution_count": 9,
   "metadata": {},
   "outputs": [
    {
     "data": {
      "text/plain": [
       "78"
      ]
     },
     "execution_count": 9,
     "metadata": {},
     "output_type": "execute_result"
    }
   ],
   "source": [
    "#Total Number of Purchases\n",
    "total_purchases = heroes_pymoli_pd[\"Price\"].count()\n",
    "total_purchases"
   ]
  },
  {
   "cell_type": "code",
   "execution_count": 10,
   "metadata": {},
   "outputs": [
    {
     "data": {
      "text/plain": [
       "228.09999999999991"
      ]
     },
     "execution_count": 10,
     "metadata": {},
     "output_type": "execute_result"
    }
   ],
   "source": [
    "total_price = heroes_pymoli_pd[\"Price\"].sum()\n",
    "total_revenue = avg_price*total_purchases \n",
    "total_revenue"
   ]
  },
  {
   "cell_type": "markdown",
   "metadata": {},
   "source": [
    "### Purchasing Analysis (Total)"
   ]
  },
  {
   "cell_type": "code",
   "execution_count": 11,
   "metadata": {},
   "outputs": [
    {
     "data": {
      "text/html": [
       "<div>\n",
       "<style>\n",
       "    .dataframe thead tr:only-child th {\n",
       "        text-align: right;\n",
       "    }\n",
       "\n",
       "    .dataframe thead th {\n",
       "        text-align: left;\n",
       "    }\n",
       "\n",
       "    .dataframe tbody tr th {\n",
       "        vertical-align: top;\n",
       "    }\n",
       "</style>\n",
       "<table border=\"1\" class=\"dataframe\">\n",
       "  <thead>\n",
       "    <tr style=\"text-align: right;\">\n",
       "      <th></th>\n",
       "      <th>Average Price</th>\n",
       "      <th>Number of Purchases</th>\n",
       "      <th>Number of Unique Items</th>\n",
       "      <th>Total Revenue</th>\n",
       "    </tr>\n",
       "  </thead>\n",
       "  <tbody>\n",
       "    <tr>\n",
       "      <th>0</th>\n",
       "      <td>$2.92</td>\n",
       "      <td>78</td>\n",
       "      <td>63</td>\n",
       "      <td>$228.10</td>\n",
       "    </tr>\n",
       "  </tbody>\n",
       "</table>\n",
       "</div>"
      ],
      "text/plain": [
       "  Average Price  Number of Purchases  Number of Unique Items Total Revenue\n",
       "0         $2.92                   78                      63       $228.10"
      ]
     },
     "execution_count": 11,
     "metadata": {},
     "output_type": "execute_result"
    }
   ],
   "source": [
    "#Clean up the data/formatting\n",
    "purchasing_analysis = pd.DataFrame({\"Number of Unique Items\": [items_unique],\n",
    "                                   \"Average Price\": [avg_price], \n",
    "                                   \"Number of Purchases\": [total_purchases],\n",
    "                                   \"Total Revenue\": [total_revenue]})\n",
    "purchasing_analysis[\"Average Price\"] = purchasing_analysis[\"Average Price\"].map(\"${0:,.2f}\".format)\n",
    "purchasing_analysis[\"Total Revenue\"] = purchasing_analysis[\"Total Revenue\"].map(\"${0:,.2f}\".format)\n",
    "purchasing_analysis"
   ]
  },
  {
   "cell_type": "code",
   "execution_count": 12,
   "metadata": {},
   "outputs": [
    {
     "data": {
      "text/plain": [
       "array(['Male', 'Female', 'Other / Non-Disclosed'], dtype=object)"
      ]
     },
     "execution_count": 12,
     "metadata": {},
     "output_type": "execute_result"
    }
   ],
   "source": [
    "#Gender Demographics\n",
    "#Count of Male, Female and Other Players \n",
    "genders = heroes_without_duplicates[\"Gender\"].unique()\n",
    "genders"
   ]
  },
  {
   "cell_type": "code",
   "execution_count": 13,
   "metadata": {
    "collapsed": true
   },
   "outputs": [],
   "source": [
    "total_male = heroes_without_duplicates[\"Gender\"].value_counts()['Male']\n",
    "total_female = heroes_without_duplicates[\"Gender\"].value_counts()[\"Female\"]\n",
    "total_other = heroes_without_duplicates[\"Gender\"].value_counts()[\"Other / Non-Disclosed\"]"
   ]
  },
  {
   "cell_type": "code",
   "execution_count": 14,
   "metadata": {
    "collapsed": true
   },
   "outputs": [],
   "source": [
    "#Percentage of Male, Female and Other Players\n",
    "percentage_male = (total_male/total_players)*100\n",
    "percentage_female = (total_female/total_players)*100\n",
    "percentage_other = (total_other/total_players)*100"
   ]
  },
  {
   "cell_type": "markdown",
   "metadata": {},
   "source": [
    "### Gender Demographics"
   ]
  },
  {
   "cell_type": "code",
   "execution_count": 15,
   "metadata": {},
   "outputs": [
    {
     "data": {
      "text/html": [
       "<div>\n",
       "<style>\n",
       "    .dataframe thead tr:only-child th {\n",
       "        text-align: right;\n",
       "    }\n",
       "\n",
       "    .dataframe thead th {\n",
       "        text-align: left;\n",
       "    }\n",
       "\n",
       "    .dataframe tbody tr th {\n",
       "        vertical-align: top;\n",
       "    }\n",
       "</style>\n",
       "<table border=\"1\" class=\"dataframe\">\n",
       "  <thead>\n",
       "    <tr style=\"text-align: right;\">\n",
       "      <th></th>\n",
       "      <th>Percentage of Players</th>\n",
       "      <th>Total Count</th>\n",
       "    </tr>\n",
       "  </thead>\n",
       "  <tbody>\n",
       "    <tr>\n",
       "      <th>Male</th>\n",
       "      <td>81.08</td>\n",
       "      <td>60</td>\n",
       "    </tr>\n",
       "    <tr>\n",
       "      <th>Female</th>\n",
       "      <td>17.57</td>\n",
       "      <td>13</td>\n",
       "    </tr>\n",
       "    <tr>\n",
       "      <th>Other / Non-Disclosed</th>\n",
       "      <td>1.35</td>\n",
       "      <td>1</td>\n",
       "    </tr>\n",
       "  </tbody>\n",
       "</table>\n",
       "</div>"
      ],
      "text/plain": [
       "                      Percentage of Players  Total Count\n",
       "Male                                  81.08           60\n",
       "Female                                17.57           13\n",
       "Other / Non-Disclosed                  1.35            1"
      ]
     },
     "execution_count": 15,
     "metadata": {},
     "output_type": "execute_result"
    }
   ],
   "source": [
    "#Clean up/Format\n",
    "gender_demographics = pd.DataFrame({\"Percentage of Players\": (percentage_male,percentage_female, percentage_other),\n",
    "                                   \"Total Count\": (total_male, total_female,total_other)}) \n",
    "\n",
    "gender_demographics[\"Percentage of Players\"] = gender_demographics[\"Percentage of Players\"].map(\"{0:,.2f}\".format)\n",
    "gender_demographics\n",
    "gender_demographics.rename(index={0:\"Male\",1:\"Female\",2:\"Other / Non-Disclosed\"})                               "
   ]
  },
  {
   "cell_type": "code",
   "execution_count": 16,
   "metadata": {},
   "outputs": [
    {
     "data": {
      "text/html": [
       "<div>\n",
       "<style>\n",
       "    .dataframe thead tr:only-child th {\n",
       "        text-align: right;\n",
       "    }\n",
       "\n",
       "    .dataframe thead th {\n",
       "        text-align: left;\n",
       "    }\n",
       "\n",
       "    .dataframe tbody tr th {\n",
       "        vertical-align: top;\n",
       "    }\n",
       "</style>\n",
       "<table border=\"1\" class=\"dataframe\">\n",
       "  <thead>\n",
       "    <tr style=\"text-align: right;\">\n",
       "      <th></th>\n",
       "      <th>Age</th>\n",
       "      <th>Gender</th>\n",
       "      <th>Item ID</th>\n",
       "      <th>Item Name</th>\n",
       "      <th>Price</th>\n",
       "      <th>SN</th>\n",
       "    </tr>\n",
       "  </thead>\n",
       "  <tbody>\n",
       "    <tr>\n",
       "      <th>0</th>\n",
       "      <td>20</td>\n",
       "      <td>Male</td>\n",
       "      <td>93</td>\n",
       "      <td>Apocalyptic Battlescythe</td>\n",
       "      <td>4.49</td>\n",
       "      <td>Iloni35</td>\n",
       "    </tr>\n",
       "    <tr>\n",
       "      <th>1</th>\n",
       "      <td>21</td>\n",
       "      <td>Male</td>\n",
       "      <td>12</td>\n",
       "      <td>Dawne</td>\n",
       "      <td>3.36</td>\n",
       "      <td>Aidaira26</td>\n",
       "    </tr>\n",
       "    <tr>\n",
       "      <th>2</th>\n",
       "      <td>17</td>\n",
       "      <td>Male</td>\n",
       "      <td>5</td>\n",
       "      <td>Putrid Fan</td>\n",
       "      <td>2.63</td>\n",
       "      <td>Irim47</td>\n",
       "    </tr>\n",
       "    <tr>\n",
       "      <th>3</th>\n",
       "      <td>17</td>\n",
       "      <td>Male</td>\n",
       "      <td>123</td>\n",
       "      <td>Twilight's Carver</td>\n",
       "      <td>2.55</td>\n",
       "      <td>Irith83</td>\n",
       "    </tr>\n",
       "    <tr>\n",
       "      <th>4</th>\n",
       "      <td>22</td>\n",
       "      <td>Male</td>\n",
       "      <td>154</td>\n",
       "      <td>Feral Katana</td>\n",
       "      <td>4.11</td>\n",
       "      <td>Philodil43</td>\n",
       "    </tr>\n",
       "  </tbody>\n",
       "</table>\n",
       "</div>"
      ],
      "text/plain": [
       "   Age Gender  Item ID                 Item Name  Price          SN\n",
       "0   20   Male       93  Apocalyptic Battlescythe   4.49     Iloni35\n",
       "1   21   Male       12                     Dawne   3.36   Aidaira26\n",
       "2   17   Male        5                Putrid Fan   2.63      Irim47\n",
       "3   17   Male      123         Twilight's Carver   2.55     Irith83\n",
       "4   22   Male      154              Feral Katana   4.11  Philodil43"
      ]
     },
     "execution_count": 16,
     "metadata": {},
     "output_type": "execute_result"
    }
   ],
   "source": [
    "#Purchasing Analysis by Gender\n",
    "male_analysis = heroes_pymoli_pd.loc[heroes_pymoli_pd[\"Gender\"] == \"Male\"]\n",
    "male_analysis.head()"
   ]
  },
  {
   "cell_type": "code",
   "execution_count": 17,
   "metadata": {},
   "outputs": [
    {
     "data": {
      "text/plain": [
       "64"
      ]
     },
     "execution_count": 17,
     "metadata": {},
     "output_type": "execute_result"
    }
   ],
   "source": [
    "male_purchase_count = male_analysis[\"Item Name\"].count()\n",
    "male_purchase_count"
   ]
  },
  {
   "cell_type": "code",
   "execution_count": 18,
   "metadata": {},
   "outputs": [
    {
     "data": {
      "text/plain": [
       "2.884375"
      ]
     },
     "execution_count": 18,
     "metadata": {},
     "output_type": "execute_result"
    }
   ],
   "source": [
    "male_avg_price = male_analysis[\"Price\"].mean()\n",
    "male_avg_price"
   ]
  },
  {
   "cell_type": "code",
   "execution_count": 19,
   "metadata": {},
   "outputs": [
    {
     "data": {
      "text/plain": [
       "184.6"
      ]
     },
     "execution_count": 19,
     "metadata": {},
     "output_type": "execute_result"
    }
   ],
   "source": [
    "male_purchase_value = male_analysis[\"Price\"].sum()\n",
    "male_purchase_value"
   ]
  },
  {
   "cell_type": "code",
   "execution_count": 20,
   "metadata": {},
   "outputs": [
    {
     "data": {
      "text/plain": [
       "3.0766666666666667"
      ]
     },
     "execution_count": 20,
     "metadata": {},
     "output_type": "execute_result"
    }
   ],
   "source": [
    "normalized_male_value = male_purchase_value/total_male \n",
    "normalized_male_value\n"
   ]
  },
  {
   "cell_type": "code",
   "execution_count": 21,
   "metadata": {
    "collapsed": true
   },
   "outputs": [],
   "source": [
    "#Female Purchasing Analysis\n",
    "female_analysis = heroes_pymoli_pd.loc[heroes_pymoli_pd[\"Gender\"] == \"Female\"]\n",
    "female_purchase_count = female_analysis[\"Item Name\"].count()\n",
    "female_avg_price = female_analysis[\"Price\"].mean()\n",
    "female_purchase_value = female_analysis[\"Price\"].sum()\n",
    "normalized_female_value = female_purchase_value/total_female \n"
   ]
  },
  {
   "cell_type": "code",
   "execution_count": 22,
   "metadata": {
    "collapsed": true
   },
   "outputs": [],
   "source": [
    "#Other Purchasing Analysis \n",
    "other_analysis = heroes_pymoli_pd.loc[heroes_pymoli_pd[\"Gender\"] == \"Other / Non-Disclosed\"]\n",
    "other_purchase_count = other_analysis[\"Item Name\"].count()\n",
    "other_avg_price = other_analysis[\"Price\"].mean()\n",
    "other_purchase_value = other_analysis[\"Price\"].sum()\n",
    "normalized_other_value = other_purchase_value/total_other"
   ]
  },
  {
   "cell_type": "markdown",
   "metadata": {},
   "source": [
    "### Purchasing Analysis (Gender)"
   ]
  },
  {
   "cell_type": "code",
   "execution_count": 23,
   "metadata": {},
   "outputs": [
    {
     "data": {
      "text/html": [
       "<div>\n",
       "<style>\n",
       "    .dataframe thead tr:only-child th {\n",
       "        text-align: right;\n",
       "    }\n",
       "\n",
       "    .dataframe thead th {\n",
       "        text-align: left;\n",
       "    }\n",
       "\n",
       "    .dataframe tbody tr th {\n",
       "        vertical-align: top;\n",
       "    }\n",
       "</style>\n",
       "<table border=\"1\" class=\"dataframe\">\n",
       "  <thead>\n",
       "    <tr style=\"text-align: right;\">\n",
       "      <th></th>\n",
       "      <th>Average Purchase Price</th>\n",
       "      <th>Normalized Totals</th>\n",
       "      <th>Purchase Count</th>\n",
       "      <th>Total Purchase Value</th>\n",
       "    </tr>\n",
       "  </thead>\n",
       "  <tbody>\n",
       "    <tr>\n",
       "      <th>Male</th>\n",
       "      <td>$2.88</td>\n",
       "      <td>$3.08</td>\n",
       "      <td>64</td>\n",
       "      <td>$184.60</td>\n",
       "    </tr>\n",
       "    <tr>\n",
       "      <th>Female</th>\n",
       "      <td>$3.18</td>\n",
       "      <td>$3.18</td>\n",
       "      <td>13</td>\n",
       "      <td>$41.38</td>\n",
       "    </tr>\n",
       "    <tr>\n",
       "      <th>Other / Non-Disclosed</th>\n",
       "      <td>$2.12</td>\n",
       "      <td>$2.12</td>\n",
       "      <td>1</td>\n",
       "      <td>$2.12</td>\n",
       "    </tr>\n",
       "  </tbody>\n",
       "</table>\n",
       "</div>"
      ],
      "text/plain": [
       "                      Average Purchase Price Normalized Totals  \\\n",
       "Male                                   $2.88             $3.08   \n",
       "Female                                 $3.18             $3.18   \n",
       "Other / Non-Disclosed                  $2.12             $2.12   \n",
       "\n",
       "                       Purchase Count Total Purchase Value  \n",
       "Male                               64              $184.60  \n",
       "Female                             13               $41.38  \n",
       "Other / Non-Disclosed               1                $2.12  "
      ]
     },
     "execution_count": 23,
     "metadata": {},
     "output_type": "execute_result"
    }
   ],
   "source": [
    "gender_purchasing_analysis = pd.DataFrame({\"Purchase Count\": (male_purchase_count,female_purchase_count,\n",
    "                                other_purchase_count),\n",
    "                                \"Average Purchase Price\": (male_avg_price, female_avg_price,\n",
    "                                other_avg_price),\n",
    "                                \"Total Purchase Value\": (male_purchase_value, female_purchase_value,\n",
    "                                other_purchase_value),\n",
    "                                \"Normalized Totals\":(normalized_male_value, normalized_female_value,\n",
    "                                                             normalized_other_value)\n",
    "            \n",
    "                                          })\n",
    "\n",
    "gender_purchasing_analysis\n",
    "gender_purchasing_analysis[\"Average Purchase Price\"] = gender_purchasing_analysis[\"Average Purchase Price\"].map(\"${0:,.2f}\".format)\n",
    "gender_purchasing_analysis[\"Total Purchase Value\"] = gender_purchasing_analysis[\"Total Purchase Value\"].map(\"${0:,.2f}\".format)\n",
    "gender_purchasing_analysis[\"Normalized Totals\"] = gender_purchasing_analysis[\"Normalized Totals\"].map(\"${0:,.2f}\".format)\n",
    "gender_purchasing_analysis[['Purchase Count', 'Average Purchase Price', 'Total Purchase Value', 'Normalized Totals']]\n",
    "gender_purchasing_analysis.rename(index={0:\"Male\",1:\"Female\",2:\"Other / Non-Disclosed\"})\n",
    "gender_purchasing_analysis[['Purchase Count', 'Average Purchase Price', 'Total Purchase Value', 'Normalized Totals']]\n",
    "gender_purchasing_analysis.rename(index={0:\"Male\",1:\"Female\",2:\"Other / Non-Disclosed\"})\n"
   ]
  },
  {
   "cell_type": "code",
   "execution_count": 24,
   "metadata": {},
   "outputs": [
    {
     "name": "stdout",
     "output_type": "stream",
     "text": [
      "40\n",
      "7\n"
     ]
    }
   ],
   "source": [
    "#Age Demographics \n",
    "#Create the bins in which the Data will be held\n",
    "print(heroes_pymoli_pd[\"Age\"].max())\n",
    "print(heroes_pymoli_pd[\"Age\"].min())"
   ]
  },
  {
   "cell_type": "code",
   "execution_count": 25,
   "metadata": {
    "collapsed": true
   },
   "outputs": [],
   "source": [
    "#Create Bins and Group Names\n",
    "bins = [0,9,14,19,24,29,34,39,100]\n",
    "group_names = [\"<10\", \"10-14\",\"15-19\",\"20-24\",\"25-29\", \"30-34\", \"35-39\", \"40+\"]\n",
    "#Cut Ages and place them into bins \n",
    "pd.cut(heroes_without_duplicates[\"Age\"], bins, labels=group_names)\n",
    "heroes_pymoli_pd[\"Age Bins\"] = pd.cut(heroes_pymoli_pd[\"Age\"], bins, labels=group_names)\n",
    "heroes_pymoli_pd[\"Ages Binned\"] = pd.cut(heroes_pymoli_pd[\"Age\"],bins)\n",
    "heroes_pymoli_pd.head()\n",
    "#print without duplicates to find accurate age demographics \n",
    "without_dups = heroes_pymoli_pd.drop_duplicates(subset =['Age', 'Gender', 'SN'])"
   ]
  },
  {
   "cell_type": "code",
   "execution_count": 26,
   "metadata": {
    "scrolled": true
   },
   "outputs": [
    {
     "data": {
      "text/html": [
       "<div>\n",
       "<style>\n",
       "    .dataframe thead tr:only-child th {\n",
       "        text-align: right;\n",
       "    }\n",
       "\n",
       "    .dataframe thead th {\n",
       "        text-align: left;\n",
       "    }\n",
       "\n",
       "    .dataframe tbody tr th {\n",
       "        vertical-align: top;\n",
       "    }\n",
       "</style>\n",
       "<table border=\"1\" class=\"dataframe\">\n",
       "  <thead>\n",
       "    <tr style=\"text-align: right;\">\n",
       "      <th></th>\n",
       "      <th>Age</th>\n",
       "      <th>Gender</th>\n",
       "      <th>Item ID</th>\n",
       "      <th>Item Name</th>\n",
       "      <th>Price</th>\n",
       "      <th>SN</th>\n",
       "      <th>Age Bins</th>\n",
       "      <th>Ages Binned</th>\n",
       "    </tr>\n",
       "  </thead>\n",
       "  <tbody>\n",
       "    <tr>\n",
       "      <th>0</th>\n",
       "      <td>20</td>\n",
       "      <td>Male</td>\n",
       "      <td>93</td>\n",
       "      <td>Apocalyptic Battlescythe</td>\n",
       "      <td>4.49</td>\n",
       "      <td>Iloni35</td>\n",
       "      <td>20-24</td>\n",
       "      <td>(19, 24]</td>\n",
       "    </tr>\n",
       "    <tr>\n",
       "      <th>1</th>\n",
       "      <td>21</td>\n",
       "      <td>Male</td>\n",
       "      <td>12</td>\n",
       "      <td>Dawne</td>\n",
       "      <td>3.36</td>\n",
       "      <td>Aidaira26</td>\n",
       "      <td>20-24</td>\n",
       "      <td>(19, 24]</td>\n",
       "    </tr>\n",
       "    <tr>\n",
       "      <th>2</th>\n",
       "      <td>17</td>\n",
       "      <td>Male</td>\n",
       "      <td>5</td>\n",
       "      <td>Putrid Fan</td>\n",
       "      <td>2.63</td>\n",
       "      <td>Irim47</td>\n",
       "      <td>15-19</td>\n",
       "      <td>(14, 19]</td>\n",
       "    </tr>\n",
       "    <tr>\n",
       "      <th>3</th>\n",
       "      <td>17</td>\n",
       "      <td>Male</td>\n",
       "      <td>123</td>\n",
       "      <td>Twilight's Carver</td>\n",
       "      <td>2.55</td>\n",
       "      <td>Irith83</td>\n",
       "      <td>15-19</td>\n",
       "      <td>(14, 19]</td>\n",
       "    </tr>\n",
       "    <tr>\n",
       "      <th>4</th>\n",
       "      <td>22</td>\n",
       "      <td>Male</td>\n",
       "      <td>154</td>\n",
       "      <td>Feral Katana</td>\n",
       "      <td>4.11</td>\n",
       "      <td>Philodil43</td>\n",
       "      <td>20-24</td>\n",
       "      <td>(19, 24]</td>\n",
       "    </tr>\n",
       "  </tbody>\n",
       "</table>\n",
       "</div>"
      ],
      "text/plain": [
       "   Age Gender  Item ID                 Item Name  Price          SN Age Bins  \\\n",
       "0   20   Male       93  Apocalyptic Battlescythe   4.49     Iloni35    20-24   \n",
       "1   21   Male       12                     Dawne   3.36   Aidaira26    20-24   \n",
       "2   17   Male        5                Putrid Fan   2.63      Irim47    15-19   \n",
       "3   17   Male      123         Twilight's Carver   2.55     Irith83    15-19   \n",
       "4   22   Male      154              Feral Katana   4.11  Philodil43    20-24   \n",
       "\n",
       "  Ages Binned  \n",
       "0    (19, 24]  \n",
       "1    (19, 24]  \n",
       "2    (14, 19]  \n",
       "3    (14, 19]  \n",
       "4    (19, 24]  "
      ]
     },
     "execution_count": 26,
     "metadata": {},
     "output_type": "execute_result"
    }
   ],
   "source": [
    "age_group = without_dups.groupby(\"Age Bins\")\n",
    "\n",
    "heroes_pymoli_pd.head()"
   ]
  },
  {
   "cell_type": "markdown",
   "metadata": {},
   "source": [
    "### Age Demographics"
   ]
  },
  {
   "cell_type": "code",
   "execution_count": 27,
   "metadata": {},
   "outputs": [
    {
     "data": {
      "text/html": [
       "<div>\n",
       "<style>\n",
       "    .dataframe thead tr:only-child th {\n",
       "        text-align: right;\n",
       "    }\n",
       "\n",
       "    .dataframe thead th {\n",
       "        text-align: left;\n",
       "    }\n",
       "\n",
       "    .dataframe tbody tr th {\n",
       "        vertical-align: top;\n",
       "    }\n",
       "</style>\n",
       "<table border=\"1\" class=\"dataframe\">\n",
       "  <thead>\n",
       "    <tr style=\"text-align: right;\">\n",
       "      <th></th>\n",
       "      <th>Total Count</th>\n",
       "      <th>Percentage of Players</th>\n",
       "    </tr>\n",
       "    <tr>\n",
       "      <th>Age Bins</th>\n",
       "      <th></th>\n",
       "      <th></th>\n",
       "    </tr>\n",
       "  </thead>\n",
       "  <tbody>\n",
       "    <tr>\n",
       "      <th>&lt;10</th>\n",
       "      <td>5</td>\n",
       "      <td>6.76</td>\n",
       "    </tr>\n",
       "    <tr>\n",
       "      <th>10-14</th>\n",
       "      <td>3</td>\n",
       "      <td>4.05</td>\n",
       "    </tr>\n",
       "    <tr>\n",
       "      <th>15-19</th>\n",
       "      <td>11</td>\n",
       "      <td>14.86</td>\n",
       "    </tr>\n",
       "    <tr>\n",
       "      <th>20-24</th>\n",
       "      <td>34</td>\n",
       "      <td>45.95</td>\n",
       "    </tr>\n",
       "    <tr>\n",
       "      <th>25-29</th>\n",
       "      <td>8</td>\n",
       "      <td>10.81</td>\n",
       "    </tr>\n",
       "    <tr>\n",
       "      <th>30-34</th>\n",
       "      <td>6</td>\n",
       "      <td>8.11</td>\n",
       "    </tr>\n",
       "    <tr>\n",
       "      <th>35-39</th>\n",
       "      <td>6</td>\n",
       "      <td>8.11</td>\n",
       "    </tr>\n",
       "    <tr>\n",
       "      <th>40+</th>\n",
       "      <td>1</td>\n",
       "      <td>1.35</td>\n",
       "    </tr>\n",
       "  </tbody>\n",
       "</table>\n",
       "</div>"
      ],
      "text/plain": [
       "          Total Count Percentage of Players\n",
       "Age Bins                                   \n",
       "<10                 5                  6.76\n",
       "10-14               3                  4.05\n",
       "15-19              11                 14.86\n",
       "20-24              34                 45.95\n",
       "25-29               8                 10.81\n",
       "30-34               6                  8.11\n",
       "35-39               6                  8.11\n",
       "40+                 1                  1.35"
      ]
     },
     "execution_count": 27,
     "metadata": {},
     "output_type": "execute_result"
    }
   ],
   "source": [
    "age_demographics = pd.DataFrame(without_dups[\"Age Bins\"].value_counts())\n",
    "age_demographics.reset_index(inplace=True)\n",
    "age_demographics.columns = [\"Age Bins\", \"Total Count\"]\n",
    "age_demographics\n",
    "age_demographics[\"Percentage of Players\"] = age_demographics[\"Total Count\"] / total_players * 100\n",
    "age_demographics[\"Percentage of Players\"] = age_demographics[\"Percentage of Players\"].map(\"{0:,.2f}\".format)\n",
    "age_demographics = age_demographics.sort_values([\"Age Bins\"], ascending=True)\n",
    "age_demographics=age_demographics.set_index('Age Bins')\n",
    "age_demographics"
   ]
  },
  {
   "cell_type": "markdown",
   "metadata": {},
   "source": [
    "### Purchasing Analysis (Age)"
   ]
  },
  {
   "cell_type": "code",
   "execution_count": 28,
   "metadata": {},
   "outputs": [
    {
     "data": {
      "text/html": [
       "<div>\n",
       "<style>\n",
       "    .dataframe thead tr:only-child th {\n",
       "        text-align: right;\n",
       "    }\n",
       "\n",
       "    .dataframe thead th {\n",
       "        text-align: left;\n",
       "    }\n",
       "\n",
       "    .dataframe tbody tr th {\n",
       "        vertical-align: top;\n",
       "    }\n",
       "</style>\n",
       "<table border=\"1\" class=\"dataframe\">\n",
       "  <thead>\n",
       "    <tr style=\"text-align: right;\">\n",
       "      <th></th>\n",
       "      <th>Purchase Count</th>\n",
       "      <th>Average Purchase Price</th>\n",
       "      <th>Total Purchase Value</th>\n",
       "      <th>Normalized Totals</th>\n",
       "    </tr>\n",
       "    <tr>\n",
       "      <th>Age Bins</th>\n",
       "      <th></th>\n",
       "      <th></th>\n",
       "      <th></th>\n",
       "      <th></th>\n",
       "    </tr>\n",
       "  </thead>\n",
       "  <tbody>\n",
       "    <tr>\n",
       "      <th>&lt;10</th>\n",
       "      <td>5</td>\n",
       "      <td>$2.76</td>\n",
       "      <td>$13.82</td>\n",
       "      <td>$2.76</td>\n",
       "    </tr>\n",
       "    <tr>\n",
       "      <th>10-14</th>\n",
       "      <td>3</td>\n",
       "      <td>$2.99</td>\n",
       "      <td>$8.96</td>\n",
       "      <td>$2.99</td>\n",
       "    </tr>\n",
       "    <tr>\n",
       "      <th>15-19</th>\n",
       "      <td>11</td>\n",
       "      <td>$2.76</td>\n",
       "      <td>$30.41</td>\n",
       "      <td>$2.76</td>\n",
       "    </tr>\n",
       "    <tr>\n",
       "      <th>20-24</th>\n",
       "      <td>36</td>\n",
       "      <td>$3.02</td>\n",
       "      <td>$108.89</td>\n",
       "      <td>$3.20</td>\n",
       "    </tr>\n",
       "    <tr>\n",
       "      <th>25-29</th>\n",
       "      <td>9</td>\n",
       "      <td>$2.90</td>\n",
       "      <td>$26.11</td>\n",
       "      <td>$3.26</td>\n",
       "    </tr>\n",
       "    <tr>\n",
       "      <th>30-34</th>\n",
       "      <td>7</td>\n",
       "      <td>$1.98</td>\n",
       "      <td>$13.89</td>\n",
       "      <td>$2.31</td>\n",
       "    </tr>\n",
       "    <tr>\n",
       "      <th>35-39</th>\n",
       "      <td>6</td>\n",
       "      <td>$3.56</td>\n",
       "      <td>$21.37</td>\n",
       "      <td>$3.56</td>\n",
       "    </tr>\n",
       "    <tr>\n",
       "      <th>40+</th>\n",
       "      <td>1</td>\n",
       "      <td>$4.65</td>\n",
       "      <td>$4.65</td>\n",
       "      <td>$4.65</td>\n",
       "    </tr>\n",
       "  </tbody>\n",
       "</table>\n",
       "</div>"
      ],
      "text/plain": [
       "          Purchase Count Average Purchase Price Total Purchase Value  \\\n",
       "Age Bins                                                               \n",
       "<10                    5                  $2.76               $13.82   \n",
       "10-14                  3                  $2.99                $8.96   \n",
       "15-19                 11                  $2.76               $30.41   \n",
       "20-24                 36                  $3.02              $108.89   \n",
       "25-29                  9                  $2.90               $26.11   \n",
       "30-34                  7                  $1.98               $13.89   \n",
       "35-39                  6                  $3.56               $21.37   \n",
       "40+                    1                  $4.65                $4.65   \n",
       "\n",
       "         Normalized Totals  \n",
       "Age Bins                    \n",
       "<10                  $2.76  \n",
       "10-14                $2.99  \n",
       "15-19                $2.76  \n",
       "20-24                $3.20  \n",
       "25-29                $3.26  \n",
       "30-34                $2.31  \n",
       "35-39                $3.56  \n",
       "40+                  $4.65  "
      ]
     },
     "execution_count": 28,
     "metadata": {},
     "output_type": "execute_result"
    }
   ],
   "source": [
    "age_purchasing_group = heroes_pymoli_pd.groupby(\"Age Bins\")\n",
    "age_analysis = pd.DataFrame(heroes_pymoli_pd[\"Age Bins\"].value_counts())\n",
    "age_analysis.reset_index(inplace=True)\n",
    "age_analysis.columns = [\"Age Bins\", \"Purchase Count\"]\n",
    "age_analysis = age_analysis.sort_values([\"Age Bins\"], ascending=True)\n",
    "age_analysis=age_analysis.set_index('Age Bins')\n",
    "price_bins = heroes_pymoli_pd.groupby(\"Age Bins\").mean()\n",
    "sum_bins = heroes_pymoli_pd.groupby(\"Age Bins\").sum()\n",
    "total_players = without_dups.groupby(\"Age Bins\").count()\n",
    "age_analysis[\"Average Purchase Price\"] = price_bins[\"Price\"]\n",
    "age_analysis[\"Total Purchase Value\"] = sum_bins[\"Price\"]\n",
    "age_analysis[\"Normalized Totals\"] = age_analysis[\"Total Purchase Value\"] / total_players[\"Item ID\"]\n",
    "\n",
    "age_analysis[\"Average Purchase Price\"] = age_analysis[\"Average Purchase Price\"].map(\"${0:,.2f}\".format)\n",
    "age_analysis[\"Total Purchase Value\"] = age_analysis[\"Total Purchase Value\"].map(\"${0:,.2f}\".format)\n",
    "age_analysis[\"Normalized Totals\"] = age_analysis[\"Normalized Totals\"].map(\"${0:,.2f}\".format)\n",
    "age_analysis\n"
   ]
  },
  {
   "cell_type": "markdown",
   "metadata": {},
   "source": [
    "### Top Spenders"
   ]
  },
  {
   "cell_type": "code",
   "execution_count": 29,
   "metadata": {},
   "outputs": [
    {
     "data": {
      "text/html": [
       "<div>\n",
       "<style>\n",
       "    .dataframe thead tr:only-child th {\n",
       "        text-align: right;\n",
       "    }\n",
       "\n",
       "    .dataframe thead th {\n",
       "        text-align: left;\n",
       "    }\n",
       "\n",
       "    .dataframe tbody tr th {\n",
       "        vertical-align: top;\n",
       "    }\n",
       "</style>\n",
       "<table border=\"1\" class=\"dataframe\">\n",
       "  <thead>\n",
       "    <tr style=\"text-align: right;\">\n",
       "      <th></th>\n",
       "      <th>Purchase Count</th>\n",
       "      <th>Average Purchase Price</th>\n",
       "      <th>Total Purchase Value</th>\n",
       "    </tr>\n",
       "    <tr>\n",
       "      <th>SN</th>\n",
       "      <th></th>\n",
       "      <th></th>\n",
       "      <th></th>\n",
       "    </tr>\n",
       "  </thead>\n",
       "  <tbody>\n",
       "    <tr>\n",
       "      <th>Sundaky74</th>\n",
       "      <td>2</td>\n",
       "      <td>$3.71</td>\n",
       "      <td>$7.41</td>\n",
       "    </tr>\n",
       "    <tr>\n",
       "      <th>Aidaira26</th>\n",
       "      <td>2</td>\n",
       "      <td>$2.56</td>\n",
       "      <td>$5.13</td>\n",
       "    </tr>\n",
       "    <tr>\n",
       "      <th>Eusty71</th>\n",
       "      <td>1</td>\n",
       "      <td>$4.81</td>\n",
       "      <td>$4.81</td>\n",
       "    </tr>\n",
       "    <tr>\n",
       "      <th>Chanirra64</th>\n",
       "      <td>1</td>\n",
       "      <td>$4.78</td>\n",
       "      <td>$4.78</td>\n",
       "    </tr>\n",
       "    <tr>\n",
       "      <th>Alarap40</th>\n",
       "      <td>1</td>\n",
       "      <td>$4.71</td>\n",
       "      <td>$4.71</td>\n",
       "    </tr>\n",
       "  </tbody>\n",
       "</table>\n",
       "</div>"
      ],
      "text/plain": [
       "            Purchase Count Average Purchase Price Total Purchase Value\n",
       "SN                                                                    \n",
       "Sundaky74                2                  $3.71                $7.41\n",
       "Aidaira26                2                  $2.56                $5.13\n",
       "Eusty71                  1                  $4.81                $4.81\n",
       "Chanirra64               1                  $4.78                $4.78\n",
       "Alarap40                 1                  $4.71                $4.71"
      ]
     },
     "execution_count": 29,
     "metadata": {},
     "output_type": "execute_result"
    }
   ],
   "source": [
    "spending_analysis = pd.DataFrame(heroes_pymoli_pd[\"SN\"].value_counts())\n",
    "spending_analysis.reset_index(inplace=True)\n",
    "spending_analysis.columns = [\"SN\", \"Purchase Count\"]\n",
    "spending_analysis=spending_analysis.set_index('SN')\n",
    "SN_price_bins = heroes_pymoli_pd.groupby(\"SN\").mean()\n",
    "SN_sum_bins = heroes_pymoli_pd.groupby(\"SN\").sum()\n",
    "spending_analysis[\"Average Purchase Price\"] = SN_price_bins[\"Price\"]\n",
    "spending_analysis[\"Total Purchase Value\"] = SN_sum_bins[\"Price\"]\n",
    "spending_analysis = spending_analysis.sort_values([\"Total Purchase Value\"], ascending=False)\n",
    "spending_analysis[\"Average Purchase Price\"] = spending_analysis[\"Average Purchase Price\"].map(\"${0:,.2f}\".format)\n",
    "spending_analysis[\"Total Purchase Value\"] = spending_analysis[\"Total Purchase Value\"].map(\"${0:,.2f}\".format)\n",
    "spending_analysis.head()"
   ]
  },
  {
   "cell_type": "markdown",
   "metadata": {},
   "source": [
    "### Most Popular Items"
   ]
  },
  {
   "cell_type": "code",
   "execution_count": 30,
   "metadata": {},
   "outputs": [
    {
     "data": {
      "text/html": [
       "<div>\n",
       "<style>\n",
       "    .dataframe thead tr:only-child th {\n",
       "        text-align: right;\n",
       "    }\n",
       "\n",
       "    .dataframe thead th {\n",
       "        text-align: left;\n",
       "    }\n",
       "\n",
       "    .dataframe tbody tr th {\n",
       "        vertical-align: top;\n",
       "    }\n",
       "</style>\n",
       "<table border=\"1\" class=\"dataframe\">\n",
       "  <thead>\n",
       "    <tr style=\"text-align: right;\">\n",
       "      <th></th>\n",
       "      <th>Purchase Count</th>\n",
       "      <th>Item Price</th>\n",
       "      <th>Total Purchase Value</th>\n",
       "    </tr>\n",
       "    <tr>\n",
       "      <th>Item Name</th>\n",
       "      <th></th>\n",
       "      <th></th>\n",
       "      <th></th>\n",
       "    </tr>\n",
       "  </thead>\n",
       "  <tbody>\n",
       "    <tr>\n",
       "      <th>Mourning Blade</th>\n",
       "      <td>3</td>\n",
       "      <td>$3.64</td>\n",
       "      <td>$10.92</td>\n",
       "    </tr>\n",
       "    <tr>\n",
       "      <th>Wolf</th>\n",
       "      <td>2</td>\n",
       "      <td>$2.70</td>\n",
       "      <td>$5.40</td>\n",
       "    </tr>\n",
       "    <tr>\n",
       "      <th>Deadline, Voice Of Subtlety</th>\n",
       "      <td>2</td>\n",
       "      <td>$1.29</td>\n",
       "      <td>$2.58</td>\n",
       "    </tr>\n",
       "    <tr>\n",
       "      <th>Misery's End</th>\n",
       "      <td>2</td>\n",
       "      <td>$1.79</td>\n",
       "      <td>$3.58</td>\n",
       "    </tr>\n",
       "    <tr>\n",
       "      <th>Betrayer</th>\n",
       "      <td>2</td>\n",
       "      <td>$4.12</td>\n",
       "      <td>$8.24</td>\n",
       "    </tr>\n",
       "  </tbody>\n",
       "</table>\n",
       "</div>"
      ],
      "text/plain": [
       "                             Purchase Count Item Price Total Purchase Value\n",
       "Item Name                                                                  \n",
       "Mourning Blade                            3      $3.64               $10.92\n",
       "Wolf                                      2      $2.70                $5.40\n",
       "Deadline, Voice Of Subtlety               2      $1.29                $2.58\n",
       "Misery's End                              2      $1.79                $3.58\n",
       "Betrayer                                  2      $4.12                $8.24"
      ]
     },
     "execution_count": 30,
     "metadata": {},
     "output_type": "execute_result"
    }
   ],
   "source": [
    "item_popularity = pd.DataFrame(heroes_pymoli_pd[\"Item Name\"].value_counts())\n",
    "item_popularity.reset_index(inplace=True)\n",
    "item_popularity.columns = [\"Item Name\", \"Purchase Count\"]\n",
    "item_popularity=item_popularity.set_index('Item Name')\n",
    "item_price_bins = heroes_pymoli_pd.groupby(\"Item Name\").mean()\n",
    "item_sum_bins = heroes_pymoli_pd.groupby(\"Item Name\").sum()\n",
    "item_popularity[\"Item Price\"] = item_price_bins[\"Price\"]\n",
    "item_popularity[\"Total Purchase Value\"] = item_sum_bins[\"Price\"]\n",
    "item_popularity = item_popularity.sort_values([\"Purchase Count\"], ascending=False)\n",
    "item_popularity[\"Item Price\"] = item_popularity[\"Item Price\"].map(\"${0:,.2f}\".format)\n",
    "item_popularity[\"Total Purchase Value\"] = item_popularity[\"Total Purchase Value\"].map(\"${0:,.2f}\".format)\n",
    "item_popularity.head()"
   ]
  },
  {
   "cell_type": "markdown",
   "metadata": {},
   "source": [
    "### Most Profitable Items"
   ]
  },
  {
   "cell_type": "code",
   "execution_count": 31,
   "metadata": {},
   "outputs": [
    {
     "data": {
      "text/html": [
       "<div>\n",
       "<style>\n",
       "    .dataframe thead tr:only-child th {\n",
       "        text-align: right;\n",
       "    }\n",
       "\n",
       "    .dataframe thead th {\n",
       "        text-align: left;\n",
       "    }\n",
       "\n",
       "    .dataframe tbody tr th {\n",
       "        vertical-align: top;\n",
       "    }\n",
       "</style>\n",
       "<table border=\"1\" class=\"dataframe\">\n",
       "  <thead>\n",
       "    <tr style=\"text-align: right;\">\n",
       "      <th></th>\n",
       "      <th>Purchase Count</th>\n",
       "      <th>Item Price</th>\n",
       "      <th>Total Purchase Value</th>\n",
       "    </tr>\n",
       "    <tr>\n",
       "      <th>Item Name</th>\n",
       "      <th></th>\n",
       "      <th></th>\n",
       "      <th></th>\n",
       "    </tr>\n",
       "  </thead>\n",
       "  <tbody>\n",
       "    <tr>\n",
       "      <th>Mourning Blade</th>\n",
       "      <td>3</td>\n",
       "      <td>$3.64</td>\n",
       "      <td>$10.92</td>\n",
       "    </tr>\n",
       "    <tr>\n",
       "      <th>Heartstriker, Legacy of the Light</th>\n",
       "      <td>2</td>\n",
       "      <td>$4.71</td>\n",
       "      <td>$9.42</td>\n",
       "    </tr>\n",
       "    <tr>\n",
       "      <th>Apocalyptic Battlescythe</th>\n",
       "      <td>2</td>\n",
       "      <td>$4.49</td>\n",
       "      <td>$8.98</td>\n",
       "    </tr>\n",
       "    <tr>\n",
       "      <th>Betrayer</th>\n",
       "      <td>2</td>\n",
       "      <td>$4.12</td>\n",
       "      <td>$8.24</td>\n",
       "    </tr>\n",
       "    <tr>\n",
       "      <th>Feral Katana</th>\n",
       "      <td>2</td>\n",
       "      <td>$4.11</td>\n",
       "      <td>$8.22</td>\n",
       "    </tr>\n",
       "  </tbody>\n",
       "</table>\n",
       "</div>"
      ],
      "text/plain": [
       "                                   Purchase Count Item Price  \\\n",
       "Item Name                                                      \n",
       "Mourning Blade                                  3      $3.64   \n",
       "Heartstriker, Legacy of the Light               2      $4.71   \n",
       "Apocalyptic Battlescythe                        2      $4.49   \n",
       "Betrayer                                        2      $4.12   \n",
       "Feral Katana                                    2      $4.11   \n",
       "\n",
       "                                  Total Purchase Value  \n",
       "Item Name                                               \n",
       "Mourning Blade                                  $10.92  \n",
       "Heartstriker, Legacy of the Light                $9.42  \n",
       "Apocalyptic Battlescythe                         $8.98  \n",
       "Betrayer                                         $8.24  \n",
       "Feral Katana                                     $8.22  "
      ]
     },
     "execution_count": 31,
     "metadata": {},
     "output_type": "execute_result"
    }
   ],
   "source": [
    "item_profitability = pd.DataFrame(heroes_pymoli_pd[\"Item Name\"].value_counts())\n",
    "item_profitability.reset_index(inplace=True)\n",
    "item_profitability.columns = [\"Item Name\", \"Purchase Count\"]\n",
    "item_profitability=item_profitability.set_index('Item Name')\n",
    "item_price_bins2 = heroes_pymoli_pd.groupby(\"Item Name\").mean()\n",
    "item_sum_bins2 = heroes_pymoli_pd.groupby(\"Item Name\").sum()\n",
    "item_profitability[\"Item Price\"] = item_price_bins2[\"Price\"]\n",
    "item_profitability[\"Total Purchase Value\"] = item_sum_bins2[\"Price\"]\n",
    "item_profitability = item_profitability.sort_values([\"Total Purchase Value\"], ascending=False)\n",
    "item_profitability[\"Item Price\"] = item_profitability[\"Item Price\"].map(\"${0:,.2f}\".format)\n",
    "item_profitability[\"Total Purchase Value\"] = item_profitability[\"Total Purchase Value\"].map(\"${0:,.2f}\".format)\n",
    "item_profitability.head()"
   ]
  },
  {
   "cell_type": "code",
   "execution_count": null,
   "metadata": {
    "collapsed": true
   },
   "outputs": [],
   "source": []
  },
  {
   "cell_type": "code",
   "execution_count": null,
   "metadata": {
    "collapsed": true
   },
   "outputs": [],
   "source": []
  }
 ],
 "metadata": {
  "kernelspec": {
   "display_name": "Python [conda env:PythonData]",
   "language": "python",
   "name": "conda-env-PythonData-py"
  },
  "language_info": {
   "codemirror_mode": {
    "name": "ipython",
    "version": 3
   },
   "file_extension": ".py",
   "mimetype": "text/x-python",
   "name": "python",
   "nbconvert_exporter": "python",
   "pygments_lexer": "ipython3",
   "version": "3.6.3"
  }
 },
 "nbformat": 4,
 "nbformat_minor": 2
}
